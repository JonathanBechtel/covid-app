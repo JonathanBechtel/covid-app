{
 "cells": [
  {
   "cell_type": "markdown",
   "metadata": {},
   "source": [
    "This notebook contains the code that was used to derive model parameters for prophet Forecaster used in `model.py`"
   ]
  },
  {
   "cell_type": "code",
   "execution_count": 85,
   "metadata": {},
   "outputs": [],
   "source": [
    "from fbprophet import Prophet\n",
    "import pandas as pd\n",
    "from fbprophet.diagnostics import cross_validation, performance_metrics\n",
    "import numpy as np\n",
    "import itertools\n",
    "from datetime import date"
   ]
  },
  {
   "cell_type": "code",
   "execution_count": 3,
   "metadata": {},
   "outputs": [],
   "source": [
    "df = pd.read_csv('https://api.covidtracking.com/v1/states/daily.csv', parse_dates=['date'])"
   ]
  },
  {
   "cell_type": "code",
   "execution_count": 4,
   "metadata": {},
   "outputs": [],
   "source": [
    "cases = df.groupby('date')['positiveIncrease'].sum().reset_index()\n",
    "cases.rename({'date': 'ds', 'positiveIncrease': 'y'}, axis=1, inplace=True)"
   ]
  },
  {
   "cell_type": "code",
   "execution_count": 119,
   "metadata": {},
   "outputs": [],
   "source": [
    "cases['cap'] = 1000000\n",
    "cases['floor'] = 0"
   ]
  },
  {
   "cell_type": "code",
   "execution_count": 7,
   "metadata": {},
   "outputs": [
    {
     "data": {
      "text/plain": [
       "<fbprophet.forecaster.Prophet at 0x21b2b4904e0>"
      ]
     },
     "execution_count": 7,
     "metadata": {},
     "output_type": "execute_result"
    }
   ],
   "source": [
    "mod = Prophet(growth='logistic')\n",
    "\n",
    "mod.add_country_holidays(country_name='US')"
   ]
  },
  {
   "cell_type": "code",
   "execution_count": 9,
   "metadata": {},
   "outputs": [],
   "source": [
    "# cv\n",
    "param_grid = {  \n",
    "    'changepoint_prior_scale': [ 0.1, 0.5, 0.7, 0.9],\n",
    "    'seasonality_prior_scale': [0.1, 1.0, 10.0],\n",
    "    'holidays_prior_scale': [ 0.1, 1.0, 10.0]\n",
    "}\n",
    "\n",
    "all_params = [dict(zip(param_grid.keys(), v)) for v in itertools.product(*param_grid.values())]"
   ]
  },
  {
   "cell_type": "code",
   "execution_count": 10,
   "metadata": {},
   "outputs": [],
   "source": [
    "# loop through, get the values\n",
    "cv_vals = {\n",
    "    'mape': [],\n",
    "    'mse': [],\n",
    "    'rmse': [],\n",
    "    'changepoint_scale': [],\n",
    "    'seasonality_scale': [],\n",
    "    'holidays_scale': [],\n",
    "}"
   ]
  },
  {
   "cell_type": "code",
   "execution_count": 11,
   "metadata": {},
   "outputs": [
    {
     "name": "stderr",
     "output_type": "stream",
     "text": [
      "INFO:fbprophet:Disabling yearly seasonality. Run prophet with yearly_seasonality=True to override this.\n",
      "INFO:fbprophet:Disabling daily seasonality. Run prophet with daily_seasonality=True to override this.\n"
     ]
    },
    {
     "name": "stdout",
     "output_type": "stream",
     "text": [
      "Fitting Model For Params: {'changepoint_prior_scale': 0.1, 'seasonality_prior_scale': 0.1, 'holidays_prior_scale': 0.1}\n"
     ]
    },
    {
     "name": "stderr",
     "output_type": "stream",
     "text": [
      "INFO:fbprophet:Making 15 forecasts with cutoffs between 2020-09-25 00:00:00 and 2021-01-01 00:00:00\n",
      "INFO:fbprophet:Disabling yearly seasonality. Run prophet with yearly_seasonality=True to override this.\n",
      "INFO:fbprophet:Disabling daily seasonality. Run prophet with daily_seasonality=True to override this.\n"
     ]
    },
    {
     "name": "stdout",
     "output_type": "stream",
     "text": [
      "Metrics:  mape: 0.2470017774926426, mse: 1368244660.1599145, rmse: 35986.61526697218\n",
      "Fitting Model For Params: {'changepoint_prior_scale': 0.1, 'seasonality_prior_scale': 0.1, 'holidays_prior_scale': 1.0}\n"
     ]
    },
    {
     "name": "stderr",
     "output_type": "stream",
     "text": [
      "INFO:fbprophet:Making 15 forecasts with cutoffs between 2020-09-25 00:00:00 and 2021-01-01 00:00:00\n",
      "INFO:fbprophet:Disabling yearly seasonality. Run prophet with yearly_seasonality=True to override this.\n",
      "INFO:fbprophet:Disabling daily seasonality. Run prophet with daily_seasonality=True to override this.\n"
     ]
    },
    {
     "name": "stdout",
     "output_type": "stream",
     "text": [
      "Metrics:  mape: 0.24725549228152302, mse: 1393910045.7904563, rmse: 36342.05462259197\n",
      "Fitting Model For Params: {'changepoint_prior_scale': 0.1, 'seasonality_prior_scale': 0.1, 'holidays_prior_scale': 10.0}\n"
     ]
    },
    {
     "name": "stderr",
     "output_type": "stream",
     "text": [
      "INFO:fbprophet:Making 15 forecasts with cutoffs between 2020-09-25 00:00:00 and 2021-01-01 00:00:00\n",
      "INFO:fbprophet:Disabling yearly seasonality. Run prophet with yearly_seasonality=True to override this.\n",
      "INFO:fbprophet:Disabling daily seasonality. Run prophet with daily_seasonality=True to override this.\n"
     ]
    },
    {
     "name": "stdout",
     "output_type": "stream",
     "text": [
      "Metrics:  mape: 0.24891844336834337, mse: 1386347094.3516595, rmse: 36249.212192174906\n",
      "Fitting Model For Params: {'changepoint_prior_scale': 0.1, 'seasonality_prior_scale': 1.0, 'holidays_prior_scale': 0.1}\n"
     ]
    },
    {
     "name": "stderr",
     "output_type": "stream",
     "text": [
      "INFO:fbprophet:Making 15 forecasts with cutoffs between 2020-09-25 00:00:00 and 2021-01-01 00:00:00\n",
      "INFO:fbprophet:Disabling yearly seasonality. Run prophet with yearly_seasonality=True to override this.\n",
      "INFO:fbprophet:Disabling daily seasonality. Run prophet with daily_seasonality=True to override this.\n"
     ]
    },
    {
     "name": "stdout",
     "output_type": "stream",
     "text": [
      "Metrics:  mape: 0.248843703234284, mse: 1376308441.394572, rmse: 36097.5577300951\n",
      "Fitting Model For Params: {'changepoint_prior_scale': 0.1, 'seasonality_prior_scale': 1.0, 'holidays_prior_scale': 1.0}\n"
     ]
    },
    {
     "name": "stderr",
     "output_type": "stream",
     "text": [
      "INFO:fbprophet:Making 15 forecasts with cutoffs between 2020-09-25 00:00:00 and 2021-01-01 00:00:00\n",
      "INFO:fbprophet:Disabling yearly seasonality. Run prophet with yearly_seasonality=True to override this.\n",
      "INFO:fbprophet:Disabling daily seasonality. Run prophet with daily_seasonality=True to override this.\n"
     ]
    },
    {
     "name": "stdout",
     "output_type": "stream",
     "text": [
      "Metrics:  mape: 0.24697600035702125, mse: 1382124495.5903914, rmse: 36183.08287468894\n",
      "Fitting Model For Params: {'changepoint_prior_scale': 0.1, 'seasonality_prior_scale': 1.0, 'holidays_prior_scale': 10.0}\n"
     ]
    },
    {
     "name": "stderr",
     "output_type": "stream",
     "text": [
      "INFO:fbprophet:Making 15 forecasts with cutoffs between 2020-09-25 00:00:00 and 2021-01-01 00:00:00\n",
      "INFO:fbprophet:Disabling yearly seasonality. Run prophet with yearly_seasonality=True to override this.\n",
      "INFO:fbprophet:Disabling daily seasonality. Run prophet with daily_seasonality=True to override this.\n"
     ]
    },
    {
     "name": "stdout",
     "output_type": "stream",
     "text": [
      "Metrics:  mape: 0.2481604880012769, mse: 1384436793.8829448, rmse: 36222.58935377801\n",
      "Fitting Model For Params: {'changepoint_prior_scale': 0.1, 'seasonality_prior_scale': 10.0, 'holidays_prior_scale': 0.1}\n"
     ]
    },
    {
     "name": "stderr",
     "output_type": "stream",
     "text": [
      "INFO:fbprophet:Making 15 forecasts with cutoffs between 2020-09-25 00:00:00 and 2021-01-01 00:00:00\n",
      "INFO:fbprophet:Disabling yearly seasonality. Run prophet with yearly_seasonality=True to override this.\n",
      "INFO:fbprophet:Disabling daily seasonality. Run prophet with daily_seasonality=True to override this.\n"
     ]
    },
    {
     "name": "stdout",
     "output_type": "stream",
     "text": [
      "Metrics:  mape: 0.24676977339434808, mse: 1366741999.078652, rmse: 35964.19879208426\n",
      "Fitting Model For Params: {'changepoint_prior_scale': 0.1, 'seasonality_prior_scale': 10.0, 'holidays_prior_scale': 1.0}\n"
     ]
    },
    {
     "name": "stderr",
     "output_type": "stream",
     "text": [
      "INFO:fbprophet:Making 15 forecasts with cutoffs between 2020-09-25 00:00:00 and 2021-01-01 00:00:00\n",
      "INFO:fbprophet:Disabling yearly seasonality. Run prophet with yearly_seasonality=True to override this.\n",
      "INFO:fbprophet:Disabling daily seasonality. Run prophet with daily_seasonality=True to override this.\n"
     ]
    },
    {
     "name": "stdout",
     "output_type": "stream",
     "text": [
      "Metrics:  mape: 0.2462001264226494, mse: 1385317716.0023098, rmse: 36235.08106345333\n",
      "Fitting Model For Params: {'changepoint_prior_scale': 0.1, 'seasonality_prior_scale': 10.0, 'holidays_prior_scale': 10.0}\n"
     ]
    },
    {
     "name": "stderr",
     "output_type": "stream",
     "text": [
      "INFO:fbprophet:Making 15 forecasts with cutoffs between 2020-09-25 00:00:00 and 2021-01-01 00:00:00\n",
      "INFO:fbprophet:Disabling yearly seasonality. Run prophet with yearly_seasonality=True to override this.\n",
      "INFO:fbprophet:Disabling daily seasonality. Run prophet with daily_seasonality=True to override this.\n"
     ]
    },
    {
     "name": "stdout",
     "output_type": "stream",
     "text": [
      "Metrics:  mape: 0.2483786620529371, mse: 1395104768.6324697, rmse: 36366.11825010284\n",
      "Fitting Model For Params: {'changepoint_prior_scale': 0.5, 'seasonality_prior_scale': 0.1, 'holidays_prior_scale': 0.1}\n"
     ]
    },
    {
     "name": "stderr",
     "output_type": "stream",
     "text": [
      "INFO:fbprophet:Making 15 forecasts with cutoffs between 2020-09-25 00:00:00 and 2021-01-01 00:00:00\n",
      "INFO:fbprophet:Disabling yearly seasonality. Run prophet with yearly_seasonality=True to override this.\n",
      "INFO:fbprophet:Disabling daily seasonality. Run prophet with daily_seasonality=True to override this.\n"
     ]
    },
    {
     "name": "stdout",
     "output_type": "stream",
     "text": [
      "Metrics:  mape: 0.21044413544307897, mse: 1260775204.9018466, rmse: 34451.29316727977\n",
      "Fitting Model For Params: {'changepoint_prior_scale': 0.5, 'seasonality_prior_scale': 0.1, 'holidays_prior_scale': 1.0}\n"
     ]
    },
    {
     "name": "stderr",
     "output_type": "stream",
     "text": [
      "INFO:fbprophet:Making 15 forecasts with cutoffs between 2020-09-25 00:00:00 and 2021-01-01 00:00:00\n",
      "INFO:fbprophet:Disabling yearly seasonality. Run prophet with yearly_seasonality=True to override this.\n",
      "INFO:fbprophet:Disabling daily seasonality. Run prophet with daily_seasonality=True to override this.\n"
     ]
    },
    {
     "name": "stdout",
     "output_type": "stream",
     "text": [
      "Metrics:  mape: 0.21056521599618683, mse: 1273847907.430772, rmse: 34645.326297405736\n",
      "Fitting Model For Params: {'changepoint_prior_scale': 0.5, 'seasonality_prior_scale': 0.1, 'holidays_prior_scale': 10.0}\n"
     ]
    },
    {
     "name": "stderr",
     "output_type": "stream",
     "text": [
      "INFO:fbprophet:Making 15 forecasts with cutoffs between 2020-09-25 00:00:00 and 2021-01-01 00:00:00\n",
      "INFO:fbprophet:Disabling yearly seasonality. Run prophet with yearly_seasonality=True to override this.\n",
      "INFO:fbprophet:Disabling daily seasonality. Run prophet with daily_seasonality=True to override this.\n"
     ]
    },
    {
     "name": "stdout",
     "output_type": "stream",
     "text": [
      "Metrics:  mape: 0.21056201553223572, mse: 1274247656.4530907, rmse: 34651.36007250098\n",
      "Fitting Model For Params: {'changepoint_prior_scale': 0.5, 'seasonality_prior_scale': 1.0, 'holidays_prior_scale': 0.1}\n"
     ]
    },
    {
     "name": "stderr",
     "output_type": "stream",
     "text": [
      "INFO:fbprophet:Making 15 forecasts with cutoffs between 2020-09-25 00:00:00 and 2021-01-01 00:00:00\n",
      "INFO:fbprophet:Disabling yearly seasonality. Run prophet with yearly_seasonality=True to override this.\n",
      "INFO:fbprophet:Disabling daily seasonality. Run prophet with daily_seasonality=True to override this.\n"
     ]
    },
    {
     "name": "stdout",
     "output_type": "stream",
     "text": [
      "Metrics:  mape: 0.2102803155392363, mse: 1260500696.2700832, rmse: 34446.08937435851\n",
      "Fitting Model For Params: {'changepoint_prior_scale': 0.5, 'seasonality_prior_scale': 1.0, 'holidays_prior_scale': 1.0}\n"
     ]
    },
    {
     "name": "stderr",
     "output_type": "stream",
     "text": [
      "INFO:fbprophet:Making 15 forecasts with cutoffs between 2020-09-25 00:00:00 and 2021-01-01 00:00:00\n",
      "INFO:fbprophet:Disabling yearly seasonality. Run prophet with yearly_seasonality=True to override this.\n",
      "INFO:fbprophet:Disabling daily seasonality. Run prophet with daily_seasonality=True to override this.\n"
     ]
    },
    {
     "name": "stdout",
     "output_type": "stream",
     "text": [
      "Metrics:  mape: 0.21047671698947368, mse: 1272771707.9839642, rmse: 34628.51968897721\n",
      "Fitting Model For Params: {'changepoint_prior_scale': 0.5, 'seasonality_prior_scale': 1.0, 'holidays_prior_scale': 10.0}\n"
     ]
    },
    {
     "name": "stderr",
     "output_type": "stream",
     "text": [
      "INFO:fbprophet:Making 15 forecasts with cutoffs between 2020-09-25 00:00:00 and 2021-01-01 00:00:00\n",
      "INFO:fbprophet:Disabling yearly seasonality. Run prophet with yearly_seasonality=True to override this.\n",
      "INFO:fbprophet:Disabling daily seasonality. Run prophet with daily_seasonality=True to override this.\n"
     ]
    },
    {
     "name": "stdout",
     "output_type": "stream",
     "text": [
      "Metrics:  mape: 0.2106314522201498, mse: 1274073118.4379861, rmse: 34647.91637371467\n",
      "Fitting Model For Params: {'changepoint_prior_scale': 0.5, 'seasonality_prior_scale': 10.0, 'holidays_prior_scale': 0.1}\n"
     ]
    },
    {
     "name": "stderr",
     "output_type": "stream",
     "text": [
      "INFO:fbprophet:Making 15 forecasts with cutoffs between 2020-09-25 00:00:00 and 2021-01-01 00:00:00\n",
      "INFO:fbprophet:Disabling yearly seasonality. Run prophet with yearly_seasonality=True to override this.\n",
      "INFO:fbprophet:Disabling daily seasonality. Run prophet with daily_seasonality=True to override this.\n"
     ]
    },
    {
     "name": "stdout",
     "output_type": "stream",
     "text": [
      "Metrics:  mape: 0.21005881381045105, mse: 1260145305.632815, rmse: 34443.137373495934\n",
      "Fitting Model For Params: {'changepoint_prior_scale': 0.5, 'seasonality_prior_scale': 10.0, 'holidays_prior_scale': 1.0}\n"
     ]
    },
    {
     "name": "stderr",
     "output_type": "stream",
     "text": [
      "INFO:fbprophet:Making 15 forecasts with cutoffs between 2020-09-25 00:00:00 and 2021-01-01 00:00:00\n",
      "INFO:fbprophet:Disabling yearly seasonality. Run prophet with yearly_seasonality=True to override this.\n",
      "INFO:fbprophet:Disabling daily seasonality. Run prophet with daily_seasonality=True to override this.\n",
      "INFO:fbprophet:Making 15 forecasts with cutoffs between 2020-09-25 00:00:00 and 2021-01-01 00:00:00\n"
     ]
    },
    {
     "name": "stdout",
     "output_type": "stream",
     "text": [
      "Metrics:  mape: 0.21069795036278077, mse: 1274258711.6316378, rmse: 34650.741224453035\n",
      "Fitting Model For Params: {'changepoint_prior_scale': 0.5, 'seasonality_prior_scale': 10.0, 'holidays_prior_scale': 10.0}\n"
     ]
    },
    {
     "name": "stderr",
     "output_type": "stream",
     "text": [
      "INFO:fbprophet:Disabling yearly seasonality. Run prophet with yearly_seasonality=True to override this.\n",
      "INFO:fbprophet:Disabling daily seasonality. Run prophet with daily_seasonality=True to override this.\n"
     ]
    },
    {
     "name": "stdout",
     "output_type": "stream",
     "text": [
      "Metrics:  mape: 0.2105903902848049, mse: 1273669965.701185, rmse: 34640.99088002133\n",
      "Fitting Model For Params: {'changepoint_prior_scale': 0.7, 'seasonality_prior_scale': 0.1, 'holidays_prior_scale': 0.1}\n"
     ]
    },
    {
     "name": "stderr",
     "output_type": "stream",
     "text": [
      "INFO:fbprophet:Making 15 forecasts with cutoffs between 2020-09-25 00:00:00 and 2021-01-01 00:00:00\n",
      "INFO:fbprophet:Disabling yearly seasonality. Run prophet with yearly_seasonality=True to override this.\n",
      "INFO:fbprophet:Disabling daily seasonality. Run prophet with daily_seasonality=True to override this.\n"
     ]
    },
    {
     "name": "stdout",
     "output_type": "stream",
     "text": [
      "Metrics:  mape: 0.20791600853194353, mse: 1250269802.3027647, rmse: 34293.092358823844\n",
      "Fitting Model For Params: {'changepoint_prior_scale': 0.7, 'seasonality_prior_scale': 0.1, 'holidays_prior_scale': 1.0}\n"
     ]
    },
    {
     "name": "stderr",
     "output_type": "stream",
     "text": [
      "INFO:fbprophet:Making 15 forecasts with cutoffs between 2020-09-25 00:00:00 and 2021-01-01 00:00:00\n",
      "INFO:fbprophet:Disabling yearly seasonality. Run prophet with yearly_seasonality=True to override this.\n",
      "INFO:fbprophet:Disabling daily seasonality. Run prophet with daily_seasonality=True to override this.\n"
     ]
    },
    {
     "name": "stdout",
     "output_type": "stream",
     "text": [
      "Metrics:  mape: 0.20830197855517743, mse: 1262866563.1871002, rmse: 34480.71184381522\n",
      "Fitting Model For Params: {'changepoint_prior_scale': 0.7, 'seasonality_prior_scale': 0.1, 'holidays_prior_scale': 10.0}\n"
     ]
    },
    {
     "name": "stderr",
     "output_type": "stream",
     "text": [
      "INFO:fbprophet:Making 15 forecasts with cutoffs between 2020-09-25 00:00:00 and 2021-01-01 00:00:00\n",
      "INFO:fbprophet:Disabling yearly seasonality. Run prophet with yearly_seasonality=True to override this.\n",
      "INFO:fbprophet:Disabling daily seasonality. Run prophet with daily_seasonality=True to override this.\n"
     ]
    },
    {
     "name": "stdout",
     "output_type": "stream",
     "text": [
      "Metrics:  mape: 0.20816775546554708, mse: 1263341454.5611966, rmse: 34488.66324478875\n",
      "Fitting Model For Params: {'changepoint_prior_scale': 0.7, 'seasonality_prior_scale': 1.0, 'holidays_prior_scale': 0.1}\n"
     ]
    },
    {
     "name": "stderr",
     "output_type": "stream",
     "text": [
      "INFO:fbprophet:Making 15 forecasts with cutoffs between 2020-09-25 00:00:00 and 2021-01-01 00:00:00\n",
      "INFO:fbprophet:Disabling yearly seasonality. Run prophet with yearly_seasonality=True to override this.\n",
      "INFO:fbprophet:Disabling daily seasonality. Run prophet with daily_seasonality=True to override this.\n"
     ]
    },
    {
     "name": "stdout",
     "output_type": "stream",
     "text": [
      "Metrics:  mape: 0.2077844363137303, mse: 1249204334.2438302, rmse: 34278.61121615652\n",
      "Fitting Model For Params: {'changepoint_prior_scale': 0.7, 'seasonality_prior_scale': 1.0, 'holidays_prior_scale': 1.0}\n"
     ]
    },
    {
     "name": "stderr",
     "output_type": "stream",
     "text": [
      "INFO:fbprophet:Making 15 forecasts with cutoffs between 2020-09-25 00:00:00 and 2021-01-01 00:00:00\n",
      "INFO:fbprophet:Disabling yearly seasonality. Run prophet with yearly_seasonality=True to override this.\n",
      "INFO:fbprophet:Disabling daily seasonality. Run prophet with daily_seasonality=True to override this.\n"
     ]
    },
    {
     "name": "stdout",
     "output_type": "stream",
     "text": [
      "Metrics:  mape: 0.20843504696014573, mse: 1263418539.7400448, rmse: 34489.0963184466\n",
      "Fitting Model For Params: {'changepoint_prior_scale': 0.7, 'seasonality_prior_scale': 1.0, 'holidays_prior_scale': 10.0}\n"
     ]
    },
    {
     "name": "stderr",
     "output_type": "stream",
     "text": [
      "INFO:fbprophet:Making 15 forecasts with cutoffs between 2020-09-25 00:00:00 and 2021-01-01 00:00:00\n",
      "INFO:fbprophet:Disabling yearly seasonality. Run prophet with yearly_seasonality=True to override this.\n",
      "INFO:fbprophet:Disabling daily seasonality. Run prophet with daily_seasonality=True to override this.\n"
     ]
    },
    {
     "name": "stdout",
     "output_type": "stream",
     "text": [
      "Metrics:  mape: 0.20824180392502636, mse: 1263607712.5957532, rmse: 34492.717283215556\n",
      "Fitting Model For Params: {'changepoint_prior_scale': 0.7, 'seasonality_prior_scale': 10.0, 'holidays_prior_scale': 0.1}\n"
     ]
    },
    {
     "name": "stderr",
     "output_type": "stream",
     "text": [
      "INFO:fbprophet:Making 15 forecasts with cutoffs between 2020-09-25 00:00:00 and 2021-01-01 00:00:00\n",
      "INFO:fbprophet:Disabling yearly seasonality. Run prophet with yearly_seasonality=True to override this.\n",
      "INFO:fbprophet:Disabling daily seasonality. Run prophet with daily_seasonality=True to override this.\n"
     ]
    },
    {
     "name": "stdout",
     "output_type": "stream",
     "text": [
      "Metrics:  mape: 0.2078797063521316, mse: 1250266367.5003607, rmse: 34293.59318958924\n",
      "Fitting Model For Params: {'changepoint_prior_scale': 0.7, 'seasonality_prior_scale': 10.0, 'holidays_prior_scale': 1.0}\n"
     ]
    },
    {
     "name": "stderr",
     "output_type": "stream",
     "text": [
      "INFO:fbprophet:Making 15 forecasts with cutoffs between 2020-09-25 00:00:00 and 2021-01-01 00:00:00\n",
      "INFO:fbprophet:Disabling yearly seasonality. Run prophet with yearly_seasonality=True to override this.\n",
      "INFO:fbprophet:Disabling daily seasonality. Run prophet with daily_seasonality=True to override this.\n"
     ]
    },
    {
     "name": "stdout",
     "output_type": "stream",
     "text": [
      "Metrics:  mape: 0.20819096643101057, mse: 1260887174.893343, rmse: 34451.926523883805\n",
      "Fitting Model For Params: {'changepoint_prior_scale': 0.7, 'seasonality_prior_scale': 10.0, 'holidays_prior_scale': 10.0}\n"
     ]
    },
    {
     "name": "stderr",
     "output_type": "stream",
     "text": [
      "INFO:fbprophet:Making 15 forecasts with cutoffs between 2020-09-25 00:00:00 and 2021-01-01 00:00:00\n",
      "INFO:fbprophet:Disabling yearly seasonality. Run prophet with yearly_seasonality=True to override this.\n",
      "INFO:fbprophet:Disabling daily seasonality. Run prophet with daily_seasonality=True to override this.\n"
     ]
    },
    {
     "name": "stdout",
     "output_type": "stream",
     "text": [
      "Metrics:  mape: 0.20816607903477471, mse: 1263546749.5583608, rmse: 34491.201444766004\n",
      "Fitting Model For Params: {'changepoint_prior_scale': 0.9, 'seasonality_prior_scale': 0.1, 'holidays_prior_scale': 0.1}\n"
     ]
    },
    {
     "name": "stderr",
     "output_type": "stream",
     "text": [
      "INFO:fbprophet:Making 15 forecasts with cutoffs between 2020-09-25 00:00:00 and 2021-01-01 00:00:00\n",
      "INFO:fbprophet:Disabling yearly seasonality. Run prophet with yearly_seasonality=True to override this.\n",
      "INFO:fbprophet:Disabling daily seasonality. Run prophet with daily_seasonality=True to override this.\n"
     ]
    },
    {
     "name": "stdout",
     "output_type": "stream",
     "text": [
      "Metrics:  mape: 0.206387486016683, mse: 1243432267.9551127, rmse: 34191.05677671019\n",
      "Fitting Model For Params: {'changepoint_prior_scale': 0.9, 'seasonality_prior_scale': 0.1, 'holidays_prior_scale': 1.0}\n"
     ]
    },
    {
     "name": "stderr",
     "output_type": "stream",
     "text": [
      "INFO:fbprophet:Making 15 forecasts with cutoffs between 2020-09-25 00:00:00 and 2021-01-01 00:00:00\n",
      "INFO:fbprophet:Disabling yearly seasonality. Run prophet with yearly_seasonality=True to override this.\n",
      "INFO:fbprophet:Disabling daily seasonality. Run prophet with daily_seasonality=True to override this.\n"
     ]
    },
    {
     "name": "stdout",
     "output_type": "stream",
     "text": [
      "Metrics:  mape: 0.20702746476899633, mse: 1256894545.1562407, rmse: 34391.83820741315\n",
      "Fitting Model For Params: {'changepoint_prior_scale': 0.9, 'seasonality_prior_scale': 0.1, 'holidays_prior_scale': 10.0}\n"
     ]
    },
    {
     "name": "stderr",
     "output_type": "stream",
     "text": [
      "INFO:fbprophet:Making 15 forecasts with cutoffs between 2020-09-25 00:00:00 and 2021-01-01 00:00:00\n",
      "INFO:fbprophet:Disabling yearly seasonality. Run prophet with yearly_seasonality=True to override this.\n",
      "INFO:fbprophet:Disabling daily seasonality. Run prophet with daily_seasonality=True to override this.\n"
     ]
    },
    {
     "name": "stdout",
     "output_type": "stream",
     "text": [
      "Metrics:  mape: 0.20689497446077945, mse: 1258015756.7358966, rmse: 34408.76848701918\n",
      "Fitting Model For Params: {'changepoint_prior_scale': 0.9, 'seasonality_prior_scale': 1.0, 'holidays_prior_scale': 0.1}\n"
     ]
    },
    {
     "name": "stderr",
     "output_type": "stream",
     "text": [
      "INFO:fbprophet:Making 15 forecasts with cutoffs between 2020-09-25 00:00:00 and 2021-01-01 00:00:00\n",
      "INFO:fbprophet:Disabling yearly seasonality. Run prophet with yearly_seasonality=True to override this.\n",
      "INFO:fbprophet:Disabling daily seasonality. Run prophet with daily_seasonality=True to override this.\n"
     ]
    },
    {
     "name": "stdout",
     "output_type": "stream",
     "text": [
      "Metrics:  mape: 0.20646638255835342, mse: 1243558937.8618138, rmse: 34192.871936823605\n",
      "Fitting Model For Params: {'changepoint_prior_scale': 0.9, 'seasonality_prior_scale': 1.0, 'holidays_prior_scale': 1.0}\n"
     ]
    },
    {
     "name": "stderr",
     "output_type": "stream",
     "text": [
      "INFO:fbprophet:Making 15 forecasts with cutoffs between 2020-09-25 00:00:00 and 2021-01-01 00:00:00\n",
      "INFO:fbprophet:Disabling yearly seasonality. Run prophet with yearly_seasonality=True to override this.\n",
      "INFO:fbprophet:Disabling daily seasonality. Run prophet with daily_seasonality=True to override this.\n"
     ]
    },
    {
     "name": "stdout",
     "output_type": "stream",
     "text": [
      "Metrics:  mape: 0.20679816781032476, mse: 1255684444.0907664, rmse: 34375.57380965252\n",
      "Fitting Model For Params: {'changepoint_prior_scale': 0.9, 'seasonality_prior_scale': 1.0, 'holidays_prior_scale': 10.0}\n"
     ]
    },
    {
     "name": "stderr",
     "output_type": "stream",
     "text": [
      "INFO:fbprophet:Making 15 forecasts with cutoffs between 2020-09-25 00:00:00 and 2021-01-01 00:00:00\n",
      "INFO:fbprophet:Disabling yearly seasonality. Run prophet with yearly_seasonality=True to override this.\n",
      "INFO:fbprophet:Disabling daily seasonality. Run prophet with daily_seasonality=True to override this.\n"
     ]
    },
    {
     "name": "stdout",
     "output_type": "stream",
     "text": [
      "Metrics:  mape: 0.20688110903927154, mse: 1255902768.3419194, rmse: 34378.88496231214\n",
      "Fitting Model For Params: {'changepoint_prior_scale': 0.9, 'seasonality_prior_scale': 10.0, 'holidays_prior_scale': 0.1}\n"
     ]
    },
    {
     "name": "stderr",
     "output_type": "stream",
     "text": [
      "INFO:fbprophet:Making 15 forecasts with cutoffs between 2020-09-25 00:00:00 and 2021-01-01 00:00:00\n",
      "INFO:fbprophet:Disabling yearly seasonality. Run prophet with yearly_seasonality=True to override this.\n",
      "INFO:fbprophet:Disabling daily seasonality. Run prophet with daily_seasonality=True to override this.\n"
     ]
    },
    {
     "name": "stdout",
     "output_type": "stream",
     "text": [
      "Metrics:  mape: 0.20652306016989264, mse: 1243927225.8843389, rmse: 34198.124544464416\n",
      "Fitting Model For Params: {'changepoint_prior_scale': 0.9, 'seasonality_prior_scale': 10.0, 'holidays_prior_scale': 1.0}\n"
     ]
    },
    {
     "name": "stderr",
     "output_type": "stream",
     "text": [
      "INFO:fbprophet:Making 15 forecasts with cutoffs between 2020-09-25 00:00:00 and 2021-01-01 00:00:00\n",
      "INFO:fbprophet:Disabling yearly seasonality. Run prophet with yearly_seasonality=True to override this.\n",
      "INFO:fbprophet:Disabling daily seasonality. Run prophet with daily_seasonality=True to override this.\n"
     ]
    },
    {
     "name": "stdout",
     "output_type": "stream",
     "text": [
      "Metrics:  mape: 0.2069243007240824, mse: 1255464931.2598248, rmse: 34371.72896110012\n",
      "Fitting Model For Params: {'changepoint_prior_scale': 0.9, 'seasonality_prior_scale': 10.0, 'holidays_prior_scale': 10.0}\n"
     ]
    },
    {
     "name": "stderr",
     "output_type": "stream",
     "text": [
      "INFO:fbprophet:Making 15 forecasts with cutoffs between 2020-09-25 00:00:00 and 2021-01-01 00:00:00\n"
     ]
    },
    {
     "name": "stdout",
     "output_type": "stream",
     "text": [
      "Metrics:  mape: 0.20674723718403798, mse: 1255877704.9885066, rmse: 34378.30250101049\n"
     ]
    }
   ],
   "source": [
    "for param in all_params:\n",
    "    mod = Prophet(\n",
    "    changepoint_prior_scale = param['changepoint_prior_scale'],\n",
    "    seasonality_prior_scale = param['seasonality_prior_scale'],\n",
    "    holidays_prior_scale    = param['holidays_prior_scale'])\n",
    "    mod.add_country_holidays(country_name='US')\n",
    "    print(f\"Fitting Model For Params: {param}\")\n",
    "    mod.fit(train)\n",
    "    df_cv = cross_validation(mod, initial='250 days', period='7 days', horizon = '7 days')\n",
    "    cv    = performance_metrics(df_cv)\n",
    "    print(f\"Metrics:  mape: {cv['mape'].mean()}, mse: {cv['mse'].mean()}, rmse: {cv['rmse'].mean()}\")\n",
    "    cv_vals['mape'].append(cv['mape'].mean())\n",
    "    cv_vals['mse'].append(cv['mse'].mean())\n",
    "    cv_vals['rmse'].append(cv['rmse'].mean())\n",
    "    cv_vals['changepoint_scale'].append(param['changepoint_prior_scale'])\n",
    "    cv_vals['seasonality_scale'].append(param['seasonality_prior_scale'])\n",
    "    cv_vals['holidays_scale'].append(param['holidays_prior_scale'])"
   ]
  }
 ],
 "metadata": {
  "kernelspec": {
   "display_name": "Python 3",
   "language": "python",
   "name": "python3"
  },
  "language_info": {
   "codemirror_mode": {
    "name": "ipython",
    "version": 3
   },
   "file_extension": ".py",
   "mimetype": "text/x-python",
   "name": "python",
   "nbconvert_exporter": "python",
   "pygments_lexer": "ipython3",
   "version": "3.7.3"
  }
 },
 "nbformat": 4,
 "nbformat_minor": 4
}
